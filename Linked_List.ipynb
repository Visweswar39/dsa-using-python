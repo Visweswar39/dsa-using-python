{
  "nbformat": 4,
  "nbformat_minor": 0,
  "metadata": {
    "colab": {
      "provenance": []
    },
    "kernelspec": {
      "name": "python3",
      "display_name": "Python 3"
    },
    "language_info": {
      "name": "python"
    }
  },
  "cells": [
    {
      "cell_type": "code",
      "execution_count": null,
      "metadata": {
        "id": "E4iaLgfi1WrV"
      },
      "outputs": [],
      "source": [
        "class Node:\n",
        "  def __init__(self,value):\n",
        "    self.data = value\n",
        "    self.next = None\n"
      ]
    },
    {
      "cell_type": "code",
      "source": [
        "from types import new_class\n",
        "class LinkedList:\n",
        "  def __init__(self):\n",
        "    self.head = None\n",
        "    self.n = 0\n",
        "  def __len__(self):\n",
        "    return self.n\n",
        "  \n",
        "  def insert_begin(self,value):\n",
        "    newnode = Node(value)\n",
        "    newnode.next=self.head\n",
        "    self.head = newnode\n",
        "    self.n += 1\n",
        "\n",
        "  def append(self,value):\n",
        "    newnode = Node(value)\n",
        "    #If list is empty\n",
        "    if self.head == None:\n",
        "      self.head = newnode\n",
        "      self.n += 1\n",
        "      return\n",
        "    temp = self.head\n",
        "    while temp.next != None:\n",
        "      temp = temp.next\n",
        "    temp.next = newnode\n",
        "    self.n += 1\n",
        "\n",
        "  def insert(self,position,value):\n",
        "    newnode = Node(value)\n",
        "    temp = self.head\n",
        "    while temp != None:\n",
        "      if temp.data == position:\n",
        "        newnode.next = temp.next\n",
        "        temp.next = newnode\n",
        "        self.n += 1\n",
        "        return\n",
        "      temp = temp.next\n",
        "    print(\"position not Not found\")\n",
        "\n",
        "  def clear(self):\n",
        "    self.head =None\n",
        "    self.n = 0\n",
        "  \n",
        "  def deleteBegin(self):\n",
        "    if self.head == None :\n",
        "      print(\"Linked List is empty!!\")\n",
        "      return\n",
        "    self.head = self.head.next\n",
        "    self.n -=1\n",
        "\n",
        "  def pop(self):\n",
        "    if self.head == None:\n",
        "      print(\"Linked List is empty !!\")\n",
        "      return\n",
        "    elif self.head.next == None :\n",
        "      self.head = None\n",
        "      self.n -=1\n",
        "      return\n",
        "    temp = self.head\n",
        "    while temp.next.next != None:\n",
        "      temp = temp.next\n",
        "    temp.next = None\n",
        "\n",
        "  def remove(self,value):\n",
        "    if self.head == None:\n",
        "      print(\"Linked List is empty !!\")\n",
        "      return\n",
        "    elif self.head.next == None:\n",
        "      if self.head.data == value:\n",
        "        self.head = None\n",
        "        self.n -= 1\n",
        "      else :\n",
        "        print(\"Node doesn't present\")\n",
        "      return\n",
        "    temp = self.head\n",
        "    while temp.next != None:\n",
        "      if temp.next.data == value :\n",
        "        temp.next = temp.next.next\n",
        "        self.n -= 1\n",
        "        return\n",
        "      temp = temp.next\n",
        "\n",
        "  def delete_at_index(self,index):\n",
        "    if self.head == None:\n",
        "      print(\"Linked list is empty.\")\n",
        "      return\n",
        "    elif index>=self.n:\n",
        "      print(\"Index is greater than size of linked list\")\n",
        "      return\n",
        "    elif index == 0:\n",
        "      self.deleteBegin()\n",
        "      return\n",
        "    temp = self.head\n",
        "    for i in range(index-1):\n",
        "      temp = temp.next\n",
        "    temp.next = temp.next.next\n",
        "    self.n -= 1\n",
        "  \n",
        "  def search(self,value):\n",
        "    temp = self.head\n",
        "    index = 0\n",
        "    while temp != None:\n",
        "      if temp.data == value:\n",
        "        return \"value found at \" + str(index) + \" index\"\n",
        "      index += 1\n",
        "      temp = temp.next\n",
        "    return \"value not found!!\"\n",
        "\n",
        "  def __getitem__(self,index):\n",
        "    if index>= self.n :\n",
        "      return \"index greater than size of linked list !! \"\n",
        "    temp = self.head\n",
        "    count = 0\n",
        "    while temp != None:\n",
        "      if index == count:\n",
        "        print(temp.data)\n",
        "        return\n",
        "      temp = temp.next\n",
        "      count += 1\n",
        "\n",
        "\n",
        "  def display(self):\n",
        "    if self.head == None:\n",
        "      print(\"Linked List is empty!!\")\n",
        "      return\n",
        "    temp = self.head\n",
        "    while temp.next != None:\n",
        "      print(temp.data,end='')\n",
        "      temp = temp.next\n",
        "    print(temp.data)\n",
        "\n",
        "  def replace_max(self,value):\n",
        "    if self.head == None :\n",
        "      print(\"Linked list is empty.\")\n",
        "      return\n",
        "    temp = self.head\n",
        "    max = temp\n",
        "    while temp != None :\n",
        "      if temp.data > max.data:\n",
        "        max = temp\n",
        "      temp = temp.next\n",
        "    max.data = value\n",
        "\n",
        "  def sum_odd_nodes(self):\n",
        "    temp = self.head\n",
        "    counter = 0\n",
        "    sum = 0\n",
        "    while temp != None:\n",
        "      if counter %2 != 0 :\n",
        "        sum += temp.data\n",
        "      temp = temp.next\n",
        "      counter +=1\n",
        "    return sum\n",
        "    \n",
        "  def reverse(self):\n",
        "    curr = self.head\n",
        "    prev = None\n",
        "    while curr != None:\n",
        "      next_node = curr.next\n",
        "      curr.next = prev\n",
        "      prev = curr\n",
        "      curr = next_node\n",
        "    self.head = prev\n",
        "\n",
        "  def change_sent(self):\n",
        "    temp = self.head\n",
        "    while temp != None:\n",
        "      if temp.data == '/' or temp.data=='*':\n",
        "        temp.data = ' '\n",
        "        if temp.next.data == '/' or temp.next.data == '*':\n",
        "          temp.next.next.data = temp.next.next.data.upper()\n",
        "          temp.next = temp.next.next\n",
        "      temp = temp.next\n"
      ],
      "metadata": {
        "id": "1lDjBXed3I6q"
      },
      "execution_count": null,
      "outputs": []
    },
    {
      "cell_type": "code",
      "source": [
        "ll = LinkedList()\n",
        "ll.append(40)"
      ],
      "metadata": {
        "id": "xOnsphjX-00-"
      },
      "execution_count": null,
      "outputs": []
    },
    {
      "cell_type": "code",
      "source": [
        "\n",
        "ll.insert_begin(10)\n",
        "ll.insert_begin(20)\n",
        "ll.insert_begin(30)\n"
      ],
      "metadata": {
        "id": "j1c7BjKb6zZO"
      },
      "execution_count": null,
      "outputs": []
    },
    {
      "cell_type": "code",
      "source": [
        "ll.display()"
      ],
      "metadata": {
        "colab": {
          "base_uri": "https://localhost:8080/"
        },
        "id": "KRjgOrha6_Lk",
        "outputId": "72b05681-bbab-4331-c3c0-ca65780592b9"
      },
      "execution_count": null,
      "outputs": [
        {
          "output_type": "stream",
          "name": "stdout",
          "text": [
            "30\n",
            "20\n",
            "10\n",
            "40\n"
          ]
        }
      ]
    },
    {
      "cell_type": "code",
      "source": [
        "ll.reverse()"
      ],
      "metadata": {
        "id": "Rk-iefK2IvbT"
      },
      "execution_count": null,
      "outputs": []
    },
    {
      "cell_type": "code",
      "source": [
        "len(ll)"
      ],
      "metadata": {
        "colab": {
          "base_uri": "https://localhost:8080/"
        },
        "id": "I7gi3H0p7NWj",
        "outputId": "6378cb1e-8ddb-46c3-bcb9-00b5be4746c2"
      },
      "execution_count": null,
      "outputs": [
        {
          "output_type": "execute_result",
          "data": {
            "text/plain": [
              "2"
            ]
          },
          "metadata": {},
          "execution_count": 209
        }
      ]
    },
    {
      "cell_type": "code",
      "source": [
        "l1 = LinkedList()\n",
        "l1.delete_at_index(9)"
      ],
      "metadata": {
        "colab": {
          "base_uri": "https://localhost:8080/"
        },
        "id": "Eha7MDi4CrGp",
        "outputId": "540edfdf-b2f6-4d0d-a700-6da5b7dfef5c"
      },
      "execution_count": null,
      "outputs": [
        {
          "output_type": "stream",
          "name": "stdout",
          "text": [
            "Linked list is empty.\n"
          ]
        }
      ]
    },
    {
      "cell_type": "code",
      "source": [
        "wordlist = LinkedList()"
      ],
      "metadata": {
        "id": "4hQsw_D9Lmo-"
      },
      "execution_count": null,
      "outputs": []
    },
    {
      "cell_type": "code",
      "source": [
        "wordlist.append('T')\n",
        "wordlist.append('h')\n",
        "wordlist.append('e')\n",
        "wordlist.append('/')\n",
        "wordlist.append('*')\n",
        "wordlist.append('s')\n",
        "wordlist.append('k')\n",
        "wordlist.append('y')\n",
        "wordlist.append('*')\n",
        "wordlist.append('i')\n",
        "wordlist.append('s')\n",
        "wordlist.append('/')\n",
        "wordlist.append('/')\n",
        "wordlist.append('b')\n",
        "wordlist.append('l')\n",
        "wordlist.append('u')\n",
        "wordlist.append('e')\n",
        "wordlist.display()"
      ],
      "metadata": {
        "colab": {
          "base_uri": "https://localhost:8080/"
        },
        "id": "NPpMr49Acy0x",
        "outputId": "30da134c-3ae3-460c-af83-8709f811a090"
      },
      "execution_count": null,
      "outputs": [
        {
          "output_type": "stream",
          "name": "stdout",
          "text": [
            "The/*sky*is//blue\n"
          ]
        }
      ]
    },
    {
      "cell_type": "code",
      "source": [
        "wordlist.change_sent()\n",
        "wordlist.display()"
      ],
      "metadata": {
        "colab": {
          "base_uri": "https://localhost:8080/"
        },
        "id": "SD2ogFkadVM8",
        "outputId": "449de751-88c1-4abc-f2c2-70147ea3214f"
      },
      "execution_count": null,
      "outputs": [
        {
          "output_type": "stream",
          "name": "stdout",
          "text": [
            "The Sky is Blue\n"
          ]
        }
      ]
    },
    {
      "cell_type": "code",
      "source": [],
      "metadata": {
        "id": "JVAowpMKeXn-"
      },
      "execution_count": null,
      "outputs": []
    }
  ]
}