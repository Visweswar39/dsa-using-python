{
  "nbformat": 4,
  "nbformat_minor": 0,
  "metadata": {
    "colab": {
      "provenance": [],
      "collapsed_sections": [
        "LIKTiUlSW9UR",
        "Iw_BPB_VW5Nr",
        "fzb2P-WvXtTF"
      ]
    },
    "kernelspec": {
      "name": "python3",
      "display_name": "Python 3"
    },
    "language_info": {
      "name": "python"
    }
  },
  "cells": [
    {
      "cell_type": "code",
      "execution_count": 3,
      "metadata": {
        "id": "49nN9JVrmAg-"
      },
      "outputs": [],
      "source": [
        "class Node:\n",
        "  def __init__(self,value):\n",
        "    self.data = value\n",
        "    self.next = None"
      ]
    },
    {
      "cell_type": "code",
      "source": [
        "class Stack:\n",
        "  def __init__(self):\n",
        "    self.top = None\n",
        "    self.n = 0\n",
        "\n",
        "  def __len__(self):\n",
        "    return self.n\n",
        "\n",
        "  def isempty(self):\n",
        "    return self.top == None\n",
        "\n",
        "  def push(self,value):\n",
        "    newnode = Node(value)\n",
        "    newnode.next = self.top\n",
        "    self.top = newnode\n",
        "    self.n +=1\n",
        "\n",
        "  def display(self):\n",
        "    if self.isempty():\n",
        "      return \"stack is empty\"\n",
        "    temp = self.top\n",
        "    while temp.next != None:\n",
        "      print(temp.data,end = ' -> ')\n",
        "      temp = temp.next\n",
        "    print(temp.data)\n",
        "\n",
        "  def peek(self):\n",
        "    if self.isempty():\n",
        "      return \"Stack is empty!!\"\n",
        "    return self.top.data\n",
        "\n",
        "  def pop(self):\n",
        "    if self.isempty():\n",
        "      return \"Stack is empty !!\"\n",
        "    x = self.top.data\n",
        "    self.top = self.top.next\n",
        "    self.n -= 1\n",
        "    return x"
      ],
      "metadata": {
        "id": "tCz0ZgGUmTHq"
      },
      "execution_count": 12,
      "outputs": []
    },
    {
      "cell_type": "code",
      "source": [
        "stack = Stack()"
      ],
      "metadata": {
        "id": "vykTEC6BooK4"
      },
      "execution_count": null,
      "outputs": []
    },
    {
      "cell_type": "code",
      "source": [
        "stack.push(1)\n",
        "stack.push(2)\n",
        "stack.push(3)"
      ],
      "metadata": {
        "id": "9hVmRja9orU4"
      },
      "execution_count": null,
      "outputs": []
    },
    {
      "cell_type": "code",
      "source": [
        "stack.display()"
      ],
      "metadata": {
        "colab": {
          "base_uri": "https://localhost:8080/",
          "height": 36
        },
        "id": "vwimuIgRoy6b",
        "outputId": "5a09cbe5-0f88-4c58-8dcf-cdce8a4896b9"
      },
      "execution_count": null,
      "outputs": [
        {
          "output_type": "execute_result",
          "data": {
            "text/plain": [
              "'stack is empty'"
            ],
            "application/vnd.google.colaboratory.intrinsic+json": {
              "type": "string"
            }
          },
          "metadata": {},
          "execution_count": 31
        }
      ]
    },
    {
      "cell_type": "code",
      "source": [
        "stack.pop()"
      ],
      "metadata": {
        "id": "RPKCPjido1dS"
      },
      "execution_count": null,
      "outputs": []
    },
    {
      "cell_type": "markdown",
      "source": [
        "### Reversing a string using stack"
      ],
      "metadata": {
        "id": "LIKTiUlSW9UR"
      }
    },
    {
      "cell_type": "markdown",
      "source": [
        "Time complexity = O(n)\n",
        "\n",
        "space complexity = O(n)"
      ],
      "metadata": {
        "id": "8a5I5AOXXCar"
      }
    },
    {
      "cell_type": "code",
      "source": [
        "def reverse_string(text):\n",
        "  stack = Stack()\n",
        "  for i in text:\n",
        "    stack.push(i)\n",
        "    res = \"\"\n",
        "  while(stack.isempty()== False):\n",
        "    res = res + stack.pop()\n",
        "    \n",
        "  return res"
      ],
      "metadata": {
        "id": "I3AVslBWp1d1"
      },
      "execution_count": 3,
      "outputs": []
    },
    {
      "cell_type": "code",
      "source": [
        "reverse_string(\"Viswa\")"
      ],
      "metadata": {
        "colab": {
          "base_uri": "https://localhost:8080/",
          "height": 36
        },
        "id": "yZ391vC0sCBa",
        "outputId": "7aabe4b9-a96e-4fb9-c5b0-742bbd1dfe3d"
      },
      "execution_count": 4,
      "outputs": [
        {
          "output_type": "execute_result",
          "data": {
            "text/plain": [
              "'awsiV'"
            ],
            "application/vnd.google.colaboratory.intrinsic+json": {
              "type": "string"
            }
          },
          "metadata": {},
          "execution_count": 4
        }
      ]
    },
    {
      "cell_type": "markdown",
      "source": [
        "### Text Editor (undo and redo) operations using stack"
      ],
      "metadata": {
        "id": "Iw_BPB_VW5Nr"
      }
    },
    {
      "cell_type": "markdown",
      "source": [
        "Time complexity = O(n)\n",
        "\n",
        "space complexity = O(2n)"
      ],
      "metadata": {
        "id": "FIFtXs7IXayq"
      }
    },
    {
      "cell_type": "code",
      "source": [
        "def text_editor(string,pattern):\n",
        "  s1 = Stack()\n",
        "  s2 = Stack()\n",
        "  res = \"\"\n",
        "  for i in string:\n",
        "    s1.push(i)\n",
        "  for i in pattern:\n",
        "    if i == 'u':\n",
        "      s2.push(s1.pop())\n",
        "    elif i == 'r':\n",
        "      s1.push(s2.pop())\n",
        "  while(s1.isempty()!= True):\n",
        "    res = s1.pop() + res\n",
        "  return res"
      ],
      "metadata": {
        "id": "I4rbqFi0sGi_"
      },
      "execution_count": 13,
      "outputs": []
    },
    {
      "cell_type": "code",
      "source": [
        "text_editor(\"Hello\",'uuur')"
      ],
      "metadata": {
        "colab": {
          "base_uri": "https://localhost:8080/",
          "height": 36
        },
        "id": "P7CBdEZ2Vse_",
        "outputId": "bc44fe55-1012-4900-c150-0892b45e98ba"
      },
      "execution_count": 14,
      "outputs": [
        {
          "output_type": "execute_result",
          "data": {
            "text/plain": [
              "'Hel'"
            ],
            "application/vnd.google.colaboratory.intrinsic+json": {
              "type": "string"
            }
          },
          "metadata": {},
          "execution_count": 14
        }
      ]
    },
    {
      "cell_type": "markdown",
      "source": [
        "### Balanced paranthesis"
      ],
      "metadata": {
        "id": "fzb2P-WvXtTF"
      }
    },
    {
      "cell_type": "code",
      "source": [
        "def Balanced_Paranthesis(string):\n",
        "  if string[0] == ')':\n",
        "    return \"String is not balanced!!\"\n",
        "  s1 = Stack()\n",
        "  for i in string:\n",
        "    if i == '(':\n",
        "      s1.push(i)\n",
        "    else:\n",
        "      if s1.peek() == '(':\n",
        "        x = s1.pop()\n",
        "        print(x,i)\n",
        "      else:\n",
        "        return \"paranthesis are not balanced\"\n",
        "  if s1.isempty():\n",
        "    return \"paranthesis are balanced\"\n",
        "  else:\n",
        "    return \"paranthesis are not balanced\""
      ],
      "metadata": {
        "id": "iR_1cAUlVy5Z"
      },
      "execution_count": 7,
      "outputs": []
    },
    {
      "cell_type": "code",
      "source": [
        "Balanced_Paranthesis(\"((()()()()()()))\")"
      ],
      "metadata": {
        "colab": {
          "base_uri": "https://localhost:8080/",
          "height": 174
        },
        "id": "1YuJqfKlXmNy",
        "outputId": "ffc5901b-56f9-43cb-e06d-ba4d6f58d090"
      },
      "execution_count": 10,
      "outputs": [
        {
          "output_type": "stream",
          "name": "stdout",
          "text": [
            "( )\n",
            "( )\n",
            "( )\n",
            "( )\n",
            "( )\n",
            "( )\n",
            "( )\n",
            "( )\n"
          ]
        },
        {
          "output_type": "execute_result",
          "data": {
            "text/plain": [
              "'paranthesis are balanced'"
            ],
            "application/vnd.google.colaboratory.intrinsic+json": {
              "type": "string"
            }
          },
          "metadata": {},
          "execution_count": 10
        }
      ]
    },
    {
      "cell_type": "code",
      "source": [],
      "metadata": {
        "id": "zpyS8VnAZXvJ"
      },
      "execution_count": null,
      "outputs": []
    },
    {
      "cell_type": "markdown",
      "source": [
        "### Celebrity stack problem"
      ],
      "metadata": {
        "id": "Qnn6qu7F5Lae"
      }
    },
    {
      "cell_type": "code",
      "source": [
        "L = [\n",
        "    [0,0,1,1],\n",
        "    [0,0,1,0],\n",
        "    [0,0,0,0],\n",
        "    [0,0,1,0]\n",
        "     ]"
      ],
      "metadata": {
        "id": "ugYyxw1P5QAT"
      },
      "execution_count": 11,
      "outputs": []
    },
    {
      "cell_type": "code",
      "source": [
        "def find_celebrity(L):\n",
        "  s = Stack()\n",
        "  for i in range(len(L)):\n",
        "    s.push(i)\n",
        "  \n",
        "  while(len(s)>=2):\n",
        "    x = s.pop()\n",
        "    y = s.pop()\n",
        "\n",
        "    if L[x][y] == 0:\n",
        "      s.push(x)\n",
        "    else:\n",
        "      s.push(y)\n",
        "    \n",
        "  celeb = s.pop()\n",
        "\n",
        "  for i in range(len(L)):\n",
        "    if i != celeb :\n",
        "      if L[celeb][i] == 1 or L[i][celeb] == 0:\n",
        "        return \"There is no celebrity!!\"\n",
        "    return str(celeb)+\" is celebrity !!\"\n"
      ],
      "metadata": {
        "id": "xqSBOn7S5pTw"
      },
      "execution_count": 17,
      "outputs": []
    },
    {
      "cell_type": "code",
      "source": [
        "find_celebrity(L)"
      ],
      "metadata": {
        "colab": {
          "base_uri": "https://localhost:8080/",
          "height": 36
        },
        "id": "lMs9Nqi5-Fjv",
        "outputId": "12f49ad1-f08b-4a4e-8971-8131cff39278"
      },
      "execution_count": 18,
      "outputs": [
        {
          "output_type": "execute_result",
          "data": {
            "text/plain": [
              "'2 is celebrity !!'"
            ],
            "application/vnd.google.colaboratory.intrinsic+json": {
              "type": "string"
            }
          },
          "metadata": {},
          "execution_count": 18
        }
      ]
    }
  ]
}