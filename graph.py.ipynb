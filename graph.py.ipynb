{
 "cells": [
  {
   "cell_type": "code",
   "execution_count": 23,
   "id": "e2d77a5c",
   "metadata": {},
   "outputs": [],
   "source": [
    "class Graph:\n",
    "    def __init__(self,nVertices):\n",
    "        self.nVertices = nVertices\n",
    "        self.adjMatrix = [[0 for i in range(nVertices)] for i in range(nVertices)]\n",
    "        \n",
    "    def addEdge(self,x,y):\n",
    "        self.adjMatrix[x][y] = 1\n",
    "        self.adjMatrix[y][x] = 1\n",
    "        \n",
    "    def __dfsHelper(self,vertex,visited):\n",
    "        print(vertex)\n",
    "        visited[vertex] = True\n",
    "        for i in range(self.nVertices):\n",
    "            if self.adjMatrix[vertex][i]==1 and visited[i]== False:\n",
    "                visited[i] = True\n",
    "                \n",
    "                self.__dfsHelper(i,visited)\n",
    "                \n",
    "        \n",
    "    def dfs(self):\n",
    "        visited = [False for i in range(self.nVertices)]\n",
    "        self.__dfsHelper(0,visited)"
   ]
  },
  {
   "cell_type": "code",
   "execution_count": 24,
   "id": "9a7f7878",
   "metadata": {},
   "outputs": [],
   "source": [
    "g = Graph(5)"
   ]
  },
  {
   "cell_type": "code",
   "execution_count": 25,
   "id": "5d5dfca8",
   "metadata": {},
   "outputs": [],
   "source": [
    "g.addEdge(0,1)\n",
    "g.addEdge(1,3)\n",
    "g.addEdge(4,1)\n",
    "g.addEdge(0,2)"
   ]
  },
  {
   "cell_type": "code",
   "execution_count": 26,
   "id": "64e611f8",
   "metadata": {},
   "outputs": [
    {
     "name": "stdout",
     "output_type": "stream",
     "text": [
      "0\n",
      "1\n",
      "3\n",
      "4\n",
      "2\n"
     ]
    }
   ],
   "source": [
    "g.dfs()"
   ]
  },
  {
   "cell_type": "code",
   "execution_count": null,
   "id": "1eb83056",
   "metadata": {},
   "outputs": [],
   "source": []
  }
 ],
 "metadata": {
  "kernelspec": {
   "display_name": "Python 3",
   "language": "python",
   "name": "python3"
  },
  "language_info": {
   "codemirror_mode": {
    "name": "ipython",
    "version": 3
   },
   "file_extension": ".py",
   "mimetype": "text/x-python",
   "name": "python",
   "nbconvert_exporter": "python",
   "pygments_lexer": "ipython3",
   "version": "3.8.8"
  }
 },
 "nbformat": 4,
 "nbformat_minor": 5
}
